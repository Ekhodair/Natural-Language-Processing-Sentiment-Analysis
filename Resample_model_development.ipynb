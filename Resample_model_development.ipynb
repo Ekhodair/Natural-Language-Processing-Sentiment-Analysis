{
 "cells": [
  {
   "cell_type": "code",
   "execution_count": 36,
   "metadata": {
    "colab": {
     "base_uri": "https://localhost:8080/"
    },
    "id": "xTv_uxySNQnw",
    "outputId": "e9bc2b47-f27a-4195-c8bc-5757db3b7244"
   },
   "outputs": [
    {
     "name": "stdout",
     "output_type": "stream",
     "text": [
      "[nltk_data] Downloading package stopwords to /root/nltk_data...\n",
      "[nltk_data]   Package stopwords is already up-to-date!\n"
     ]
    }
   ],
   "source": [
    "import numpy as np\n",
    "import pandas as pd\n",
    "import re \n",
    "import nltk\n",
    "nltk.download('stopwords')\n",
    "from nltk.corpus import stopwords\n",
    "from nltk.stem.porter import PorterStemmer\n",
    "from sklearn.feature_extraction.text import TfidfVectorizer\n",
    "from sklearn.metrics import confusion_matrix, classification_report, balanced_accuracy_score\n",
    "from sklearn.model_selection import GridSearchCV\n",
    "from sklearn.decomposition import TruncatedSVD\n",
    "from imblearn import pipeline\n",
    "from imblearn.over_sampling import SMOTE\n",
    "import warnings\n",
    "warnings.filterwarnings(action='ignore')"
   ]
  },
  {
   "cell_type": "code",
   "execution_count": 37,
   "metadata": {
    "colab": {
     "base_uri": "https://localhost:8080/",
     "height": 195
    },
    "id": "Zag-LcmJewSD",
    "outputId": "af8a0658-5dd0-4981-9235-12cbabe67246"
   },
   "outputs": [
    {
     "data": {
      "text/html": [
       "<div>\n",
       "<style scoped>\n",
       "    .dataframe tbody tr th:only-of-type {\n",
       "        vertical-align: middle;\n",
       "    }\n",
       "\n",
       "    .dataframe tbody tr th {\n",
       "        vertical-align: top;\n",
       "    }\n",
       "\n",
       "    .dataframe thead th {\n",
       "        text-align: right;\n",
       "    }\n",
       "</style>\n",
       "<table border=\"1\" class=\"dataframe\">\n",
       "  <thead>\n",
       "    <tr style=\"text-align: right;\">\n",
       "      <th></th>\n",
       "      <th>rating</th>\n",
       "      <th>date</th>\n",
       "      <th>variation</th>\n",
       "      <th>verified_reviews</th>\n",
       "      <th>feedback</th>\n",
       "    </tr>\n",
       "  </thead>\n",
       "  <tbody>\n",
       "    <tr>\n",
       "      <th>0</th>\n",
       "      <td>5</td>\n",
       "      <td>31-Jul-18</td>\n",
       "      <td>Charcoal Fabric</td>\n",
       "      <td>Love my Echo!</td>\n",
       "      <td>1</td>\n",
       "    </tr>\n",
       "    <tr>\n",
       "      <th>1</th>\n",
       "      <td>5</td>\n",
       "      <td>31-Jul-18</td>\n",
       "      <td>Charcoal Fabric</td>\n",
       "      <td>Loved it!</td>\n",
       "      <td>1</td>\n",
       "    </tr>\n",
       "    <tr>\n",
       "      <th>2</th>\n",
       "      <td>4</td>\n",
       "      <td>31-Jul-18</td>\n",
       "      <td>Walnut Finish</td>\n",
       "      <td>Sometimes while playing a game, you can answer...</td>\n",
       "      <td>1</td>\n",
       "    </tr>\n",
       "    <tr>\n",
       "      <th>3</th>\n",
       "      <td>5</td>\n",
       "      <td>31-Jul-18</td>\n",
       "      <td>Charcoal Fabric</td>\n",
       "      <td>I have had a lot of fun with this thing. My 4 ...</td>\n",
       "      <td>1</td>\n",
       "    </tr>\n",
       "    <tr>\n",
       "      <th>4</th>\n",
       "      <td>5</td>\n",
       "      <td>31-Jul-18</td>\n",
       "      <td>Charcoal Fabric</td>\n",
       "      <td>Music</td>\n",
       "      <td>1</td>\n",
       "    </tr>\n",
       "  </tbody>\n",
       "</table>\n",
       "</div>"
      ],
      "text/plain": [
       "   rating  ... feedback\n",
       "0       5  ...        1\n",
       "1       5  ...        1\n",
       "2       4  ...        1\n",
       "3       5  ...        1\n",
       "4       5  ...        1\n",
       "\n",
       "[5 rows x 5 columns]"
      ]
     },
     "execution_count": 37,
     "metadata": {
      "tags": []
     },
     "output_type": "execute_result"
    }
   ],
   "source": [
    "data_df = pd.read_csv('amazon_alexa.tsv', delimiter='\\t')\n",
    "data_df.head()"
   ]
  },
  {
   "cell_type": "markdown",
   "metadata": {
    "id": "9RUuOA5JqkCy"
   },
   "source": [
    "# Data Preprocessing"
   ]
  },
  {
   "cell_type": "code",
   "execution_count": 38,
   "metadata": {
    "id": "DZj6l2T6fnQW"
   },
   "outputs": [],
   "source": [
    "corpus = []\n",
    "for i in range(len(data_df)):\n",
    "  review = re.sub('[^a-zA-Z]', ' ', data_df['verified_reviews'][i])\n",
    "  review = review.lower().split()\n",
    "  ps = PorterStemmer()\n",
    "  all_stop_words = stopwords.words('english')\n",
    "  all_stop_words.remove('not')\n",
    "  review = [ps.stem(word) for word in review if not word  in set(all_stop_words)]\n",
    "  review = ' '.join(review)\n",
    "  corpus.append(review)"
   ]
  },
  {
   "cell_type": "code",
   "execution_count": 39,
   "metadata": {
    "id": "auPL8gJke2dI"
   },
   "outputs": [],
   "source": [
    "y = data_df['feedback']"
   ]
  },
  {
   "cell_type": "markdown",
   "metadata": {
    "id": "gtwEm8dmI2vq"
   },
   "source": [
    "## Split the dataset into the Training set and Test set"
   ]
  },
  {
   "cell_type": "code",
   "execution_count": 40,
   "metadata": {
    "id": "4nVYHlOUfqb6"
   },
   "outputs": [],
   "source": [
    "from sklearn.model_selection import train_test_split\n",
    "X_train, X_test, y_train, y_test = train_test_split(corpus, y, test_size=0.2, random_state=1)"
   ]
  },
  {
   "cell_type": "markdown",
   "metadata": {
    "id": "vR7uj0fwf5ms"
   },
   "source": [
    "# Resampling Approach Using Smote\n",
    "When classes are imbalanced, standard classifiers are usually biased towards the majority class as we have observed in our case using Logistic regression, SVM, and Random Forest.\n",
    "\n",
    "one way to overcome this issue is to adjust confidence threshold  for predicting testing instances which is usually 0.5 for a binary classifier, However, we will focus in this project on another approach which is resampling our dataset using SMOTE (Synthetic Minority Over-sampling Technique), then we will compare the performance before and after resampling.\n",
    "\n",
    "Although it is recommended to use a combination of oversampling and undersampling to manage skewed class distribution, we will stick to a focused oversampling approach due to dataset size limitation"
   ]
  },
  {
   "cell_type": "code",
   "execution_count": 41,
   "metadata": {
    "id": "KzaIyE42fr3z"
   },
   "outputs": [],
   "source": [
    "Vectorizer = TfidfVectorizer(ngram_range=(1,2)) \n",
    "X_train_tf = Vectorizer.fit_transform(X_train)\n",
    "X_test_tf = Vectorizer.transform(X_test)"
   ]
  },
  {
   "cell_type": "code",
   "execution_count": 42,
   "metadata": {
    "colab": {
     "base_uri": "https://localhost:8080/"
    },
    "id": "oNfBHre9u7ss",
    "outputId": "db9a301f-be0c-4950-8270-439e5dac5f58"
   },
   "outputs": [
    {
     "data": {
      "text/plain": [
       "(630, 19726)"
      ]
     },
     "execution_count": 42,
     "metadata": {
      "tags": []
     },
     "output_type": "execute_result"
    }
   ],
   "source": [
    "X_test_tf.shape"
   ]
  },
  {
   "cell_type": "markdown",
   "metadata": {
    "id": "suDqpyGEeG_g"
   },
   "source": [
    "# Logistic Regression"
   ]
  },
  {
   "cell_type": "code",
   "execution_count": 43,
   "metadata": {
    "id": "dcUaeTb1gybH"
   },
   "outputs": [],
   "source": [
    "from sklearn.linear_model import LogisticRegression\n",
    "pipe_log = pipeline.Pipeline([\n",
    "                        ('dimension', TruncatedSVD(n_components=1000, random_state=1)), # to decrease dimensionality of the sparse matrix\n",
    "                        ('over', SMOTE(k_neighbors=7, random_state=1)),\n",
    "                        ('clf', LogisticRegression())\n",
    "                        ])"
   ]
  },
  {
   "cell_type": "code",
   "execution_count": 44,
   "metadata": {
    "colab": {
     "base_uri": "https://localhost:8080/"
    },
    "id": "Raml509qO8kh",
    "outputId": "ac2ba961-1ea3-48cf-b111-116c0d11d369"
   },
   "outputs": [
    {
     "name": "stdout",
     "output_type": "stream",
     "text": [
      "Best Accuracy: 82.36 %\n",
      "Best Parameters: {'dimension__n_components': 1000, 'over__k_neighbors': 7}\n"
     ]
    }
   ],
   "source": [
    "params = {'dimension__n_components':[100,500,1000], \n",
    "              'over__k_neighbors':[3,5,7]}\n",
    "grid_search = GridSearchCV(estimator=pipe_log, \n",
    "                           param_grid= params, \n",
    "                           scoring='balanced_accuracy', \n",
    "                           cv=5)\n",
    "grid_search.fit(X_train_tf, y_train)\n",
    "best_accuracy = grid_search.best_score_\n",
    "best_parameters = grid_search.best_params_\n",
    "print('Best Accuracy: {:.2f} %'.format(best_accuracy*100))\n",
    "print('Best Parameters:', best_parameters)"
   ]
  },
  {
   "cell_type": "code",
   "execution_count": 45,
   "metadata": {
    "colab": {
     "base_uri": "https://localhost:8080/"
    },
    "id": "6QVcweawm8pZ",
    "outputId": "2499d8c0-9b64-43b2-8cfa-6f59977b5ad6"
   },
   "outputs": [
    {
     "data": {
      "text/plain": [
       "array([[ 30,  16],\n",
       "       [ 54, 530]])"
      ]
     },
     "execution_count": 45,
     "metadata": {
      "tags": []
     },
     "output_type": "execute_result"
    }
   ],
   "source": [
    "# train the model\n",
    "pipe_log.fit(X_train_tf, y_train)\n",
    "# evaluate on the test set\n",
    "yhat_log = pipe_log.predict(X_test_tf)\n",
    "confusion_matrix(y_test, yhat_log)"
   ]
  },
  {
   "cell_type": "code",
   "execution_count": 46,
   "metadata": {
    "colab": {
     "base_uri": "https://localhost:8080/"
    },
    "id": "vJAGBc1DVYio",
    "outputId": "d06c3821-596b-4495-e471-1059f0e6e9b2"
   },
   "outputs": [
    {
     "name": "stdout",
     "output_type": "stream",
     "text": [
      "              precision    recall  f1-score   support\n",
      "\n",
      "           0       0.36      0.65      0.46        46\n",
      "           1       0.97      0.91      0.94       584\n",
      "\n",
      "    accuracy                           0.89       630\n",
      "   macro avg       0.66      0.78      0.70       630\n",
      "weighted avg       0.93      0.89      0.90       630\n",
      "\n"
     ]
    }
   ],
   "source": [
    "print(classification_report(y_test, yhat_log))"
   ]
  },
  {
   "cell_type": "markdown",
   "metadata": {
    "id": "VHEFuP-5kI9i"
   },
   "source": [
    "we can see a major improvement in logistic regression performance after resampling our data set"
   ]
  },
  {
   "cell_type": "markdown",
   "metadata": {
    "id": "lwrrn2d3eA5n"
   },
   "source": [
    "# Linear Support Vector Machine"
   ]
  },
  {
   "cell_type": "code",
   "execution_count": 47,
   "metadata": {
    "id": "JcvjOxSNccUj"
   },
   "outputs": [],
   "source": [
    "from sklearn.svm import SVC\n",
    "pipe_sv = pipeline.Pipeline([\n",
    "                        ('dimension', TruncatedSVD(n_components=100, random_state=1)),\n",
    "                        ('over', SMOTE(k_neighbors=5, random_state=1)),\n",
    "                        ('clf', SVC(kernel='linear',random_state=1))\n",
    "                        ])"
   ]
  },
  {
   "cell_type": "code",
   "execution_count": 48,
   "metadata": {
    "colab": {
     "base_uri": "https://localhost:8080/"
    },
    "id": "gbTT-zgjp9WM",
    "outputId": "04ff7f7f-58e3-4035-e1a4-e0cd6511c6cb"
   },
   "outputs": [
    {
     "name": "stdout",
     "output_type": "stream",
     "text": [
      "Best Accuracy: 81.80 %\n",
      "Best Parameters: {'dimension__n_components': 500, 'over__k_neighbors': 7}\n"
     ]
    }
   ],
   "source": [
    "params = {'dimension__n_components':[100,500,1000], \n",
    "              'over__k_neighbors':[3,5,7]}\n",
    "grid_search = GridSearchCV(estimator=pipe_sv, \n",
    "                           param_grid= params, \n",
    "                           scoring='balanced_accuracy', \n",
    "                           cv=5)\n",
    "grid_search.fit(X_train_tf, y_train)\n",
    "best_accuracy = grid_search.best_score_\n",
    "best_parameters = grid_search.best_params_\n",
    "print('Best Accuracy: {:.2f} %'.format(best_accuracy*100))\n",
    "print('Best Parameters:', best_parameters)"
   ]
  },
  {
   "cell_type": "code",
   "execution_count": 49,
   "metadata": {
    "colab": {
     "base_uri": "https://localhost:8080/"
    },
    "id": "r_bsniaMdtTG",
    "outputId": "05bc1d54-ae59-46b9-dc2d-cca3dc1ec580"
   },
   "outputs": [
    {
     "data": {
      "text/plain": [
       "array([[ 30,  16],\n",
       "       [ 94, 490]])"
      ]
     },
     "execution_count": 49,
     "metadata": {
      "tags": []
     },
     "output_type": "execute_result"
    }
   ],
   "source": [
    "# train the model\n",
    "pipe_sv.fit(X_train_tf, y_train)\n",
    "# evaluate on the test set\n",
    "yhat_sv = pipe_sv.predict(X_test_tf)\n",
    "confusion_matrix(y_test, yhat_sv)"
   ]
  },
  {
   "cell_type": "code",
   "execution_count": 50,
   "metadata": {
    "colab": {
     "base_uri": "https://localhost:8080/"
    },
    "id": "R1Hp4pC4nat2",
    "outputId": "cba6616e-a1d0-49d4-8745-00f020572b32"
   },
   "outputs": [
    {
     "name": "stdout",
     "output_type": "stream",
     "text": [
      "              precision    recall  f1-score   support\n",
      "\n",
      "           0       0.24      0.65      0.35        46\n",
      "           1       0.97      0.84      0.90       584\n",
      "\n",
      "    accuracy                           0.83       630\n",
      "   macro avg       0.61      0.75      0.63       630\n",
      "weighted avg       0.92      0.83      0.86       630\n",
      "\n"
     ]
    }
   ],
   "source": [
    "print(classification_report(y_test, yhat_sv))"
   ]
  },
  {
   "cell_type": "markdown",
   "metadata": {
    "id": "vzFUB3s0d8ZH"
   },
   "source": [
    "# Random Forest Classifier"
   ]
  },
  {
   "cell_type": "code",
   "execution_count": 51,
   "metadata": {
    "id": "BLEVdK1X4wzk"
   },
   "outputs": [],
   "source": [
    "from sklearn.ensemble import RandomForestClassifier\n",
    "pipe_rn = pipeline.Pipeline([\n",
    "                        ('dimension', TruncatedSVD(n_components=100, random_state=1)),\n",
    "                        ('over', SMOTE(k_neighbors=7, random_state=1)),\n",
    "                        ('clf', RandomForestClassifier(random_state=1))\n",
    "                        ])"
   ]
  },
  {
   "cell_type": "code",
   "execution_count": 52,
   "metadata": {
    "colab": {
     "base_uri": "https://localhost:8080/"
    },
    "id": "YSdyxY_XdSGz",
    "outputId": "76e14a41-ca64-477b-ac5c-8a645aa75167"
   },
   "outputs": [
    {
     "name": "stdout",
     "output_type": "stream",
     "text": [
      "Best Accuracy: 81.03 %\n",
      "Best Parameters: {'dimension__n_components': 100, 'over__k_neighbors': 5}\n"
     ]
    }
   ],
   "source": [
    "params = {'dimension__n_components':[100,500,1000], \n",
    "              'over__k_neighbors':[3,5,7]}\n",
    "grid_search = GridSearchCV(estimator=pipe_rn, \n",
    "                           param_grid= params, \n",
    "                           scoring='balanced_accuracy', \n",
    "                           cv=5)\n",
    "grid_search.fit(X_train_tf, y_train)\n",
    "best_accuracy = grid_search.best_score_\n",
    "best_parameters = grid_search.best_params_\n",
    "print('Best Accuracy: {:.2f} %'.format(best_accuracy*100))\n",
    "print('Best Parameters:', best_parameters)"
   ]
  },
  {
   "cell_type": "code",
   "execution_count": 53,
   "metadata": {
    "colab": {
     "base_uri": "https://localhost:8080/"
    },
    "id": "mNtsHG3sd0vY",
    "outputId": "933daa9b-5f67-4a21-825c-8fdd46bbbaf1"
   },
   "outputs": [
    {
     "name": "stdout",
     "output_type": "stream",
     "text": [
      "              precision    recall  f1-score   support\n",
      "\n",
      "           0       0.47      0.43      0.45        46\n",
      "           1       0.96      0.96      0.96       584\n",
      "\n",
      "    accuracy                           0.92       630\n",
      "   macro avg       0.71      0.70      0.70       630\n",
      "weighted avg       0.92      0.92      0.92       630\n",
      "\n"
     ]
    }
   ],
   "source": [
    "# train the model\n",
    "pipe_rn.fit(X_train_tf, y_train)\n",
    "# evaluate on the test set\n",
    "yhat_rn = pipe_rn.predict(X_test_tf)\n",
    "print(classification_report(y_test, yhat_rn))"
   ]
  },
  {
   "cell_type": "code",
   "execution_count": 55,
   "metadata": {
    "colab": {
     "base_uri": "https://localhost:8080/",
     "height": 166
    },
    "id": "O84TvX0ElgiK",
    "outputId": "9284832f-6a3d-49f9-b108-dd90f256ee84"
   },
   "outputs": [
    {
     "data": {
      "text/html": [
       "<div>\n",
       "<style scoped>\n",
       "    .dataframe tbody tr th:only-of-type {\n",
       "        vertical-align: middle;\n",
       "    }\n",
       "\n",
       "    .dataframe tbody tr th {\n",
       "        vertical-align: top;\n",
       "    }\n",
       "\n",
       "    .dataframe thead tr th {\n",
       "        text-align: left;\n",
       "    }\n",
       "</style>\n",
       "<table border=\"1\" class=\"dataframe\">\n",
       "  <thead>\n",
       "    <tr>\n",
       "      <th>Case</th>\n",
       "      <th colspan=\"3\" halign=\"left\">Original</th>\n",
       "      <th colspan=\"3\" halign=\"left\">Oversampling</th>\n",
       "    </tr>\n",
       "    <tr>\n",
       "      <th>Metrics</th>\n",
       "      <th>Sensitivity %</th>\n",
       "      <th>Specificity %</th>\n",
       "      <th>Balanced Accuracy %</th>\n",
       "      <th>Sensitivity %</th>\n",
       "      <th>Specificity %</th>\n",
       "      <th>Balanced Accuracy %</th>\n",
       "    </tr>\n",
       "  </thead>\n",
       "  <tbody>\n",
       "    <tr>\n",
       "      <th>Logistic Regression</th>\n",
       "      <td>100</td>\n",
       "      <td>4</td>\n",
       "      <td>52</td>\n",
       "      <td>84</td>\n",
       "      <td>72</td>\n",
       "      <td>78</td>\n",
       "    </tr>\n",
       "    <tr>\n",
       "      <th>Linear SVM</th>\n",
       "      <td>99</td>\n",
       "      <td>37</td>\n",
       "      <td>68</td>\n",
       "      <td>84</td>\n",
       "      <td>65</td>\n",
       "      <td>75</td>\n",
       "    </tr>\n",
       "    <tr>\n",
       "      <th>Random Forest</th>\n",
       "      <td>100</td>\n",
       "      <td>30</td>\n",
       "      <td>65</td>\n",
       "      <td>96</td>\n",
       "      <td>43</td>\n",
       "      <td>70</td>\n",
       "    </tr>\n",
       "  </tbody>\n",
       "</table>\n",
       "</div>"
      ],
      "text/plain": [
       "Case                     Original  ...        Oversampling\n",
       "Metrics             Sensitivity %  ... Balanced Accuracy %\n",
       "Logistic Regression           100  ...                  78\n",
       "Linear SVM                     99  ...                  75\n",
       "Random Forest                 100  ...                  70\n",
       "\n",
       "[3 rows x 6 columns]"
      ]
     },
     "execution_count": 55,
     "metadata": {
      "tags": []
     },
     "output_type": "execute_result"
    }
   ],
   "source": [
    "header = pd.MultiIndex.from_product([['Original','Oversampling'],\n",
    "                                     ['Sensitivity %','Specificity %', 'Balanced Accuracy %']],\n",
    "                                    names=['Case', 'Metrics'])\n",
    "df = pd.DataFrame([[100, 4, 52, 84, 72, 78],\n",
    "                   [99, 37, 68, 84, 65, 75],\n",
    "                   [100, 30, 65, 96, 43, 70]], \n",
    "                  index=['Logistic Regression','Linear SVM','Random Forest'], \n",
    "                  columns=header)\n",
    "df"
   ]
  }
 ],
 "metadata": {
  "colab": {
   "collapsed_sections": [],
   "name": "Resample model development.ipynb",
   "provenance": []
  },
  "kernelspec": {
   "display_name": "Python 3",
   "language": "python",
   "name": "python3"
  },
  "language_info": {
   "codemirror_mode": {
    "name": "ipython",
    "version": 3
   },
   "file_extension": ".py",
   "mimetype": "text/x-python",
   "name": "python",
   "nbconvert_exporter": "python",
   "pygments_lexer": "ipython3",
   "version": "3.8.5"
  }
 },
 "nbformat": 4,
 "nbformat_minor": 1
}
